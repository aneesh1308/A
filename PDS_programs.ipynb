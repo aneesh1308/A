{
  "nbformat": 4,
  "nbformat_minor": 0,
  "metadata": {
    "colab": {
      "name": "PDS-programs",
      "provenance": [],
      "authorship_tag": "ABX9TyOfvDSFYT8ckxuo6IBd4xt+",
      "include_colab_link": true
    },
    "kernelspec": {
      "name": "python3",
      "display_name": "Python 3"
    },
    "language_info": {
      "name": "python"
    }
  },
  "cells": [
    {
      "cell_type": "markdown",
      "metadata": {
        "id": "view-in-github",
        "colab_type": "text"
      },
      "source": [
        "<a href=\"https://colab.research.google.com/github/aneesh1308/A/blob/main/PDS_programs.ipynb\" target=\"_parent\"><img src=\"https://colab.research.google.com/assets/colab-badge.svg\" alt=\"Open In Colab\"/></a>"
      ]
    },
    {
      "cell_type": "code",
      "metadata": {
        "colab": {
          "base_uri": "https://localhost:8080/"
        },
        "id": "Jnjb6Ajy3zkS",
        "outputId": "655b2446-135a-463f-c79a-27b66347a502"
      },
      "source": [
        "class Student:\n",
        "  stcount = 0\n",
        "  def __init__(self, regno, name, dob):\n",
        "    self.regno = regno\n",
        "    self.name = name\n",
        "    self.dob = dob\n",
        "    Student.stcount += 1\n",
        "  def displaycount(self):\n",
        "    print(\"total student \",Student.stcount)\n",
        "  def displaystudent(self):\n",
        "    print(\"Reg no:\",self.regno, \"\\nName:\",self.name, \"\\nDate of birth:\",self.dob)\n",
        "st1 = Student(142220243008, \"Ani\", \"08/03/2002\")\n",
        "st1.displaycount()\n",
        "st1.displaystudent()\n",
        "st2 = Student(142220243006,\"Anand\",\"03/08/2002\")\n",
        "st2.displaycount()\n",
        "st2.displaystudent()\n",
        "\n",
        "st1.mark1 = 78\n",
        "st1.mark2 = 99\n",
        "\n",
        "st2=stud(142220243006,\"Anand\",\"03/08/2002\")\n",
        "st2.displaycount()\n",
        "st2.displaystudent()\n",
        "\n",
        "st1.mark1 = 78\n",
        "st1.mark2 = 99\n",
        "print(\"Student name:\",st1.name,\"\\nMark 1:\",st1.mark1,\"Mark 2\",st1.mark2)\n",
        "\n",
        "st2.mark1 = 88\n",
        "st2.mark2 = 85\n",
        "print(\"Student name:\",st2.name,\"\\nMark 1:\",st2.mark1,\"Mark 2\",st2.mark2)\n",
        "\n",
        "print(hasattr(st1, 'mark1'))\n",
        "print(getattr(st2, 'mark1'))\n",
        "\n",
        "    "
      ],
      "execution_count": null,
      "outputs": [
        {
          "output_type": "stream",
          "text": [
            "total student  1\n",
            "Reg no: 142220243008 \n",
            "Name: Ani \n",
            "Date of birth: 08/03/2002\n",
            "total student  2\n",
            "Reg no: 142220243006 \n",
            "Name: Anand \n",
            "Date of birth: 03/08/2002\n",
            "Total students  8\n",
            "Reg.No: 142220243006 \n",
            "Name: Anand \n",
            "Date of Birth: 03/08/2002\n",
            "Student name: Ani \n",
            "Mark 1: 78 Mark 2 99\n",
            "Student name: Anand \n",
            "Mark 1: 88 Mark 2 85\n",
            "True\n",
            "88\n"
          ],
          "name": "stdout"
        }
      ]
    },
    {
      "cell_type": "code",
      "metadata": {
        "colab": {
          "base_uri": "https://localhost:8080/"
        },
        "id": "4neBmDaq_IfM",
        "outputId": "32f8c941-7678-42d6-d7d2-27f37ade8a73"
      },
      "source": [
        "class stud:\n",
        "    count=0\n",
        "    def __init__(self,regno,name,dob):\n",
        "        self.regno=regno\n",
        "        self.name=name\n",
        "        self.dob=dob\n",
        "        stud.count+=1\n",
        "    def displaycount(self):\n",
        "        print(\"Total students \",stud.count)\n",
        "    def displaystudent(self):\n",
        "        print(\"Reg.No:\",self.regno,\"\\nName:\",self.name,\"\\nDate of Birth:\",self.dob)\n",
        "st1=stud(142220243005,\"Akash\",\"23/07/2003\")\n",
        "st1.displaycount()\n",
        "st1.displaystudent()\n",
        "st2=stud(142220243006,\"Anand\",\"03/08/2002\")\n",
        "st2.displaycount()\n",
        "st2.displaystudent()\n",
        "\n",
        "st1.mark1 = 78\n",
        "st1.mark2 = 99\n",
        "print(\"Student 1 Mark 1:\",st1.mark1,\"Student 1 Mark 2\",st1.mark2)\n",
        "\n",
        "st2.mark1 = 88\n",
        "st2.mark2 = 85\n",
        "\n",
        "print(hasattr(st1, 'mark1'))\n",
        "print(getattr(st2, 'mark1'))\n"
      ],
      "execution_count": null,
      "outputs": [
        {
          "output_type": "stream",
          "text": [
            "Total students  1\n",
            "Reg.No: 142220243005 \n",
            "Name: Akash \n",
            "Date of Birth: 23/07/2003\n",
            "Total students  2\n",
            "Reg.No: 142220243006 \n",
            "Name: Anand \n",
            "Date of Birth: 03/08/2002\n",
            "Student 1 Mark 1: 78 Student 1 Mark 2 99\n",
            "True\n",
            "88\n"
          ],
          "name": "stdout"
        }
      ]
    }
  ]
}